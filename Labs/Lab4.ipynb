{
 "cells": [
  {
   "cell_type": "markdown",
   "id": "20c00fa5",
   "metadata": {
    "id": "20c00fa5"
   },
   "source": [
    "## MATH 151 Lab  4"
   ]
  },
  {
   "cell_type": "markdown",
   "id": "7c243ef1",
   "metadata": {
    "id": "7c243ef1"
   },
   "source": [
    "Put team members' names and section number here."
   ]
  },
  {
   "cell_type": "code",
   "execution_count": 1,
   "id": "cf836732",
   "metadata": {
    "id": "cf836732"
   },
   "outputs": [],
   "source": [
    "import sympy as sp\n",
    "from sympy.plotting import (plot,plot_parametric, plot_implicit)"
   ]
  },
  {
   "cell_type": "markdown",
   "id": "3169990f",
   "metadata": {
    "id": "3169990f"
   },
   "source": [
    "### Question 1"
   ]
  },
  {
   "cell_type": "markdown",
   "id": "f0561a86",
   "metadata": {
    "id": "f0561a86"
   },
   "source": [
    "#### 1a"
   ]
  },
  {
   "cell_type": "code",
   "execution_count": 2,
   "id": "0889599a",
   "metadata": {
    "id": "0889599a"
   },
   "outputs": [],
   "source": [
    "# Enter your code here\n",
    "\n"
   ]
  },
  {
   "cell_type": "markdown",
   "id": "efdd616f",
   "metadata": {
    "id": "efdd616f"
   },
   "source": [
    "#### 1b"
   ]
  },
  {
   "cell_type": "code",
   "execution_count": 3,
   "id": "582449e5",
   "metadata": {
    "id": "582449e5"
   },
   "outputs": [],
   "source": [
    "# Enter your code here\n",
    "\n"
   ]
  },
  {
   "cell_type": "markdown",
   "id": "0721fb00",
   "metadata": {
    "id": "0721fb00"
   },
   "source": [
    "#### 1c"
   ]
  },
  {
   "cell_type": "code",
   "execution_count": 4,
   "id": "dd38ebc1",
   "metadata": {
    "id": "dd38ebc1"
   },
   "outputs": [],
   "source": [
    "# Enter your code here\n",
    "\n"
   ]
  },
  {
   "cell_type": "markdown",
   "id": "8b00f000",
   "metadata": {
    "id": "8b00f000"
   },
   "source": [
    "### Question 2"
   ]
  },
  {
   "cell_type": "markdown",
   "id": "bacdc1db",
   "metadata": {
    "id": "bacdc1db"
   },
   "source": [
    "#### 2a"
   ]
  },
  {
   "cell_type": "code",
   "execution_count": 5,
   "id": "be2f2c71",
   "metadata": {
    "id": "be2f2c71"
   },
   "outputs": [],
   "source": [
    "# Enter your code here\n",
    "\n"
   ]
  },
  {
   "cell_type": "markdown",
   "id": "23bc68a6",
   "metadata": {
    "id": "23bc68a6"
   },
   "source": [
    "#### 2b"
   ]
  },
  {
   "cell_type": "code",
   "execution_count": 6,
   "id": "357bbf0f",
   "metadata": {
    "id": "357bbf0f"
   },
   "outputs": [],
   "source": [
    "# Enter your code here\n",
    "\n"
   ]
  },
  {
   "cell_type": "markdown",
   "id": "1fb8b9b8",
   "metadata": {
    "id": "1fb8b9b8"
   },
   "source": [
    "### Question 3"
   ]
  },
  {
   "cell_type": "markdown",
   "id": "ccffd0d0",
   "metadata": {
    "id": "ccffd0d0"
   },
   "source": [
    "#### 3a"
   ]
  },
  {
   "cell_type": "code",
   "execution_count": null,
   "id": "3ce0b4af",
   "metadata": {
    "id": "3ce0b4af"
   },
   "outputs": [
    {
     "name": "stdout",
     "output_type": "stream",
     "text": [
      "Original function:\n",
      "f(x) = sin(2*x) + cos(2*x)\n",
      "\n",
      "First four derivatives:\n",
      "f'(x) = -2*sin(2*x) + 2*cos(2*x)\n",
      "f''(x) = -4*sin(2*x) - 4*cos(2*x)\n",
      "f'''(x) = 8*sin(2*x) - 8*cos(2*x)\n",
      "f''''(x) = 16*sin(2*x) + 16*cos(2*x)\n"
     ]
    }
   ],
   "source": [
    "x = sp.Symbol('x')\n",
    "f = sp.sin(2*x) + sp.cos(2*x)\n",
    "\n",
    "print(\"Original function:\")\n",
    "print(f\"f(x) = {f}\")\n",
    "print()\n",
    "\n",
    "f_prime = sp.diff(f, x)\n",
    "f_double_prime = sp.diff(f_prime, x)\n",
    "f_triple_prime = sp.diff(f_double_prime, x)\n",
    "f_quad_prime = sp.diff(f_triple_prime, x)\n",
    "\n",
    "print(\"First four derivatives:\")\n",
    "print(f\"f'(x) = {f_prime}\")\n",
    "print(f\"f''(x) = {f_double_prime}\")\n",
    "print(f\"f'''(x) = {f_triple_prime}\")\n",
    "print(f\"f''''(x) = {f_quad_prime}\")"
   ]
  },
  {
   "cell_type": "markdown",
   "id": "NDBe01v2fM5P",
   "metadata": {
    "id": "NDBe01v2fM5P"
   },
   "source": [
    "#### 3b"
   ]
  },
  {
   "cell_type": "code",
   "execution_count": null,
   "id": "HAXEtWUpfO6T",
   "metadata": {
    "id": "HAXEtWUpfO6T"
   },
   "outputs": [
    {
     "name": "stdout",
     "output_type": "stream",
     "text": [
      "Next four derivatives using a for loop:\n",
      "f^(5)(x) = -32*sin(2*x) + 32*cos(2*x)\n",
      "f^(6)(x) = -64*sin(2*x) - 64*cos(2*x)\n",
      "f^(7)(x) = 128*sin(2*x) - 128*cos(2*x)\n",
      "f^(8)(x) = 256*sin(2*x) + 256*cos(2*x)\n"
     ]
    }
   ],
   "source": [
    "current_derivative = f_quad_prime\n",
    "\n",
    "print(\"Next four derivatives using a for loop:\")\n",
    "\n",
    "derivatives = []\n",
    "for i in range(5, 9):\n",
    "    current_derivative = sp.diff(current_derivative, x)\n",
    "    derivatives.append(current_derivative)\n",
    "    print(f\"f^({i})(x) = {current_derivative}\")\n",
    "\n",
    "# Store these for analysis in part (c)\n",
    "f_5th = derivatives[0]\n",
    "f_6th = derivatives[1]\n",
    "f_7th = derivatives[2]\n",
    "f_8th = derivatives[3]"
   ]
  },
  {
   "cell_type": "markdown",
   "id": "uZ7fxcujwb4g",
   "metadata": {
    "id": "uZ7fxcujwb4g"
   },
   "source": [
    "#### 3c"
   ]
  },
  {
   "cell_type": "code",
   "execution_count": null,
   "id": "_PD0D8FHj1J1",
   "metadata": {
    "id": "_PD0D8FHj1J1"
   },
   "outputs": [
    {
     "name": "stdout",
     "output_type": "stream",
     "text": [
      "Pattern Analysis:\n",
      "================\n",
      "\n",
      "Complete list of function and its derivatives:\n",
      "f^(0)(x) = f(x) = sin(2*x) + cos(2*x)\n",
      "f^(1)(x) = -2*sin(2*x) + 2*cos(2*x)\n",
      "f^(2)(x) = -4*sin(2*x) - 4*cos(2*x)\n",
      "f^(3)(x) = 8*sin(2*x) - 8*cos(2*x)\n",
      "f^(4)(x) = 16*sin(2*x) + 16*cos(2*x)\n",
      "f^(5)(x) = -32*sin(2*x) + 32*cos(2*x)\n",
      "f^(6)(x) = -64*sin(2*x) - 64*cos(2*x)\n",
      "f^(7)(x) = 128*sin(2*x) - 128*cos(2*x)\n",
      "f^(8)(x) = 256*sin(2*x) + 256*cos(2*x)\n",
      "\n",
      "Pattern Analysis:\n",
      "Looking at the derivatives, we can see that:\n",
      "- f(x) = sin(2x) + cos(2x)\n",
      "- f'(x) = 2*cos(2x) - 2*sin(2x)\n",
      "- f''(x) = -4*sin(2x) - 4*cos(2x) = -4*(sin(2x) + cos(2x)) = -4*f(x)\n",
      "- f'''(x) = -8*cos(2x) + 8*sin(2x) = -4*(2*cos(2x) - 2*sin(2x)) = -4*f'(x)\n",
      "- f''''(x) = 16*sin(2x) + 16*cos(2x) = 16*(sin(2x) + cos(2x)) = 16*f(x)\n",
      "\n",
      "PATTERN DISCOVERED:\n",
      "The derivatives repeat every 4 steps with a factor of 2^n:\n",
      "f^(4k)(x) = (2^(2k)) * f(x)\n",
      "f^(4k+1)(x) = (2^(2k+1)) * f'(x)\n",
      "f^(4k+2)(x) = (2^(2k+2)) * f''(x) = -(2^(2k+2)) * f(x)\n",
      "f^(4k+3)(x) = (2^(2k+3)) * f'''(x) = -(2^(2k+3)) * f'(x)\n",
      "\n",
      "Or more simply: f^(n+4)(x) = 2^4 * f^(n)(x) = 16 * f^(n)(x)\n",
      "\n",
      "Verification:\n",
      "f''''(x) = 16*sin(2*x) + 16*cos(2*x)\n",
      "16 * f(x) = 16*sin(2*x) + 16*cos(2*x)\n",
      "Are they equal? True\n",
      "f^(8)(x) = 256*sin(2*x) + 256*cos(2*x)\n",
      "16 * f''''(x) = 256*sin(2*x) + 256*cos(2*x)\n",
      "Are they equal? True\n"
     ]
    }
   ],
   "source": [
    "print(\"Pattern Analysis:\")\n",
    "print(\"================\")\n",
    "print()\n",
    "\n",
    "# Let's look at all derivatives in order\n",
    "all_derivatives = [f, f_prime, f_double_prime, f_triple_prime, f_quad_prime, f_5th, f_6th, f_7th, f_8th]\n",
    "\n",
    "print(\"Complete list of function and its derivatives:\")\n",
    "for i, deriv in enumerate(all_derivatives):\n",
    "    if i == 0:\n",
    "        print(f\"f^(0)(x) = f(x) = {deriv}\")\n",
    "    else:\n",
    "        print(f\"f^({i})(x) = {deriv}\")\n",
    "\n",
    "print()\n",
    "print(\"Pattern Analysis:\")\n",
    "print(\"Looking at the derivatives, we can see that:\")\n",
    "print(\"- f(x) = sin(2x) + cos(2x)\")\n",
    "print(\"- f'(x) = 2*cos(2x) - 2*sin(2x)\")\n",
    "print(\"- f''(x) = -4*sin(2x) - 4*cos(2x) = -4*(sin(2x) + cos(2x)) = -4*f(x)\")\n",
    "print(\"- f'''(x) = -8*cos(2x) + 8*sin(2x) = -4*(2*cos(2x) - 2*sin(2x)) = -4*f'(x)\")\n",
    "print(\"- f''''(x) = 16*sin(2x) + 16*cos(2x) = 16*(sin(2x) + cos(2x)) = 16*f(x)\")\n",
    "print()\n",
    "print(\"PATTERN DISCOVERED:\")\n",
    "print(\"The derivatives repeat every 4 steps with a factor of 2^n:\")\n",
    "print(\"f^(4k)(x) = (2^(2k)) * f(x)\")\n",
    "print(\"f^(4k+1)(x) = (2^(2k+1)) * f'(x)\")\n",
    "print(\"f^(4k+2)(x) = (2^(2k+2)) * f''(x) = -(2^(2k+2)) * f(x)\")\n",
    "print(\"f^(4k+3)(x) = (2^(2k+3)) * f'''(x) = -(2^(2k+3)) * f'(x)\")\n",
    "print()\n",
    "print(\"Or more simply: f^(n+4)(x) = 2^4 * f^(n)(x) = 16 * f^(n)(x)\")\n",
    "\n",
    "# Verify the pattern\n",
    "print()\n",
    "print(\"Verification:\")\n",
    "print(f\"f''''(x) = {f_quad_prime}\")\n",
    "print(f\"16 * f(x) = {16 * f}\")\n",
    "print(f\"Are they equal? {sp.simplify(f_quad_prime - 16*f) == 0}\")\n",
    "\n",
    "print(f\"f^(8)(x) = {f_8th}\")\n",
    "print(f\"16 * f''''(x) = {16 * f_quad_prime}\")\n",
    "print(f\"Are they equal? {sp.simplify(f_8th - 16*f_quad_prime) == 0}\")"
   ]
  },
  {
   "cell_type": "code",
   "execution_count": null,
   "id": "JO8PH-HU2e0H",
   "metadata": {
    "id": "JO8PH-HU2e0H"
   },
   "outputs": [],
   "source": []
  }
 ],
 "metadata": {
  "colab": {
   "provenance": []
  },
  "kernelspec": {
   "display_name": "Python 3",
   "language": "python",
   "name": "python3"
  },
  "language_info": {
   "codemirror_mode": {
    "name": "ipython",
    "version": 3
   },
   "file_extension": ".py",
   "mimetype": "text/x-python",
   "name": "python",
   "nbconvert_exporter": "python",
   "pygments_lexer": "ipython3",
   "version": "3.12.1"
  }
 },
 "nbformat": 4,
 "nbformat_minor": 5
}
