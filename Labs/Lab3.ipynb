{
  "cells": [
    {
      "cell_type": "markdown",
      "id": "20c00fa5",
      "metadata": {
        "id": "20c00fa5"
      },
      "source": [
        "## MATH 151 Lab  3"
      ]
    },
    {
      "cell_type": "markdown",
      "id": "7c243ef1",
      "metadata": {
        "id": "7c243ef1"
      },
      "source": [
        "Put team members' names and section number here."
      ]
    },
    {
      "cell_type": "code",
      "execution_count": 13,
      "id": "cf836732",
      "metadata": {
        "id": "cf836732"
      },
      "outputs": [],
      "source": [
        "import sympy as sp\n",
        "from sympy.plotting import (plot,plot_parametric)"
      ]
    },
    {
      "cell_type": "markdown",
      "id": "8b00f000",
      "metadata": {
        "id": "8b00f000"
      },
      "source": [
        "### Question 1"
      ]
    },
    {
      "cell_type": "markdown",
      "id": "bacdc1db",
      "metadata": {
        "id": "bacdc1db"
      },
      "source": [
        "#### 1a"
      ]
    },
    {
      "cell_type": "code",
      "execution_count": 14,
      "id": "hue4vhZ6Doib",
      "metadata": {
        "colab": {
          "base_uri": "https://localhost:8080/",
          "height": 216
        },
        "id": "hue4vhZ6Doib",
        "outputId": "c1e0c510-8f49-4c7f-83e3-916afc0b1186"
      },
      "outputs": [
        {
          "name": "stdout",
          "output_type": "stream",
          "text": [
            "for x<1\n"
          ]
        },
        {
          "data": {
            "text/latex": [
              "$\\displaystyle a e^{x} + \\sin{\\left(b x \\right)}$"
            ],
            "text/plain": [
              "a*exp(x) + sin(b*x)"
            ]
          },
          "metadata": {},
          "output_type": "display_data"
        },
        {
          "name": "stdout",
          "output_type": "stream",
          "text": [
            "for 1<= x < 3\n"
          ]
        },
        {
          "data": {
            "text/latex": [
              "$\\displaystyle b \\log{\\left(x \\right)} + x^{2}$"
            ],
            "text/plain": [
              "b*log(x) + x**2"
            ]
          },
          "metadata": {},
          "output_type": "display_data"
        },
        {
          "name": "stdout",
          "output_type": "stream",
          "text": [
            "for 3 <= x\n"
          ]
        },
        {
          "data": {
            "text/latex": [
              "$\\displaystyle a b + \\sqrt{x}$"
            ],
            "text/plain": [
              "a*b + sqrt(x)"
            ]
          },
          "metadata": {},
          "output_type": "display_data"
        },
        {
          "name": "stdout",
          "output_type": "stream",
          "text": [
            "b*log(3) + 9\n",
            "a*b + sqrt(3)\n"
          ]
        }
      ],
      "source": [
        "# Start your code here\n",
        "x = sp.symbols('x', real=True)\n",
        "a, b = sp.symbols('a b', real=True)\n",
        "f1 = a*sp.exp(x) + sp.sin(b*x)\n",
        "print('for x<1')\n",
        "display(f1)\n",
        "\n",
        "f2 = b*sp.log(x) + x**2\n",
        "print('for 1<= x < 3')\n",
        "display(f2)\n",
        "\n",
        "f3 = sp.sqrt(x) + a*b\n",
        "print('for 3 <= x')\n",
        "display(f3)\n",
        "\n",
        "leftlimit3 = sp.limit(f2, x, 3)\n",
        "rightlimit3 = sp.limit(f3, x, 3)\n",
        "print(leftlimit3)\n",
        "print(rightlimit3)"
      ]
    },
    {
      "cell_type": "markdown",
      "id": "xg8PJPwLbt_V",
      "metadata": {
        "id": "xg8PJPwLbt_V"
      },
      "source": [
        "#### 1b"
      ]
    },
    {
      "cell_type": "code",
      "execution_count": 15,
      "id": "laXcXuIObvKL",
      "metadata": {
        "id": "laXcXuIObvKL"
      },
      "outputs": [
        {
          "name": "stdout",
          "output_type": "stream",
          "text": [
            "E*a + sin(b)\n",
            "1\n"
          ]
        }
      ],
      "source": [
        "# Start your code here\n",
        "\n",
        "leftlimit1 = sp.limit(f1, x, 1)\n",
        "rightlimit1 = sp.limit(f2, x, 1)\n",
        "print(leftlimit1)\n",
        "print(rightlimit1)"
      ]
    },
    {
      "cell_type": "markdown",
      "id": "23bc68a6",
      "metadata": {
        "id": "23bc68a6"
      },
      "source": [
        "#### 1c"
      ]
    },
    {
      "cell_type": "code",
      "execution_count": 16,
      "id": "357bbf0f",
      "metadata": {
        "id": "357bbf0f"
      },
      "outputs": [
        {
          "name": "stdout",
          "output_type": "stream",
          "text": [
            "a = 0.613352297164233\n",
            "b = -14.9774333752653\n"
          ]
        }
      ],
      "source": [
        "# Start your code here\n",
        "\n",
        "eq3 = leftlimit3 - rightlimit3\n",
        "\n",
        "eq1 = leftlimit1 - rightlimit1\n",
        "\n",
        "solns = sp.nsolve([eq1, eq3], [a,b], [0,0])\n",
        "\n",
        "print('a =', solns[0])\n",
        "print('b =', solns[1])\n"
      ]
    },
    {
      "cell_type": "markdown",
      "id": "1fb8b9b8",
      "metadata": {
        "id": "1fb8b9b8"
      },
      "source": [
        "### Question 2"
      ]
    },
    {
      "cell_type": "markdown",
      "id": "ccffd0d0",
      "metadata": {
        "id": "ccffd0d0"
      },
      "source": [
        "#### 2a"
      ]
    },
    {
      "cell_type": "code",
      "execution_count": 17,
      "id": "9ebb9309",
      "metadata": {
        "id": "9ebb9309"
      },
      "outputs": [
        {
          "name": "stdout",
          "output_type": "stream",
          "text": [
            "The limit of (f+g)(x)=, 0, as x approaches infinity is 0\n",
            "AccumBounds(-1, 1)\n",
            "AccumBounds(-1, 1)\n"
          ]
        }
      ],
      "source": [
        "# Start your code here\n",
        "x = sp.symbols('x', real = True)\n",
        "f = sp.Function('f')(x)\n",
        "f = -sp.sin(x)\n",
        "g = sp.Function('g')(x)\n",
        "g = sp.sin(x)\n",
        "fsum = (f+g).simplify()\n",
        "print(f\"The limit of (f+g)(x)=, {fsum}, as x approaches infinity is {sp.limit(fsum, x, sp.oo)}\")\n",
        "print(sp.limit(f, x, sp.oo))\n",
        "print(sp.limit(g, x, sp.oo))\n"
      ]
    },
    {
      "cell_type": "markdown",
      "id": "1c0a84ba",
      "metadata": {
        "id": "1c0a84ba"
      },
      "source": [
        "#### 2b"
      ]
    },
    {
      "cell_type": "code",
      "execution_count": 18,
      "id": "4bbc7faf",
      "metadata": {
        "colab": {
          "base_uri": "https://localhost:8080/"
        },
        "id": "4bbc7faf",
        "outputId": "098ba0f4-0ca9-4ac3-b8b1-1a1eff10319b"
      },
      "outputs": [
        {
          "name": "stdout",
          "output_type": "stream",
          "text": [
            "The limit of (f*g)(x)=, 1, as x approaches infinity is 1\n",
            "Limit f(x) = AccumBounds(-1, 1)\n",
            "Limit g(x) = AccumBounds(-oo, oo)\n"
          ]
        }
      ],
      "source": [
        "# Start your code here\n",
        "f = sp.sin(x)\n",
        "g = 1/sp.sin(x)\n",
        "product = (f * g).simplify()\n",
        "print(f\"The limit of (f*g)(x)=, {product}, as x approaches infinity is {sp.limit(product, x, sp.oo)}\")\n",
        "print(\"Limit f(x) =\", sp.limit(f, x, sp.oo))\n",
        "print(\"Limit g(x) =\", sp.limit(g, x, sp.oo))"
      ]
    },
    {
      "cell_type": "markdown",
      "id": "3169990f",
      "metadata": {
        "id": "3169990f"
      },
      "source": [
        "### Question 3"
      ]
    },
    {
      "cell_type": "markdown",
      "id": "3c4f4bac",
      "metadata": {
        "id": "3c4f4bac"
      },
      "source": [
        "#### 3a"
      ]
    },
    {
      "cell_type": "code",
      "execution_count": 19,
      "id": "b1fc832a",
      "metadata": {
        "colab": {
          "base_uri": "https://localhost:8080/",
          "height": 216
        },
        "id": "b1fc832a",
        "outputId": "a4ba9c8d-ba4b-4ec8-b739-cf3d00cc8beb"
      },
      "outputs": [
        {
          "data": {
            "image/png": "[encoded data removed]",
            "text/plain": [
              "<Figure size 640x480 with 1 Axes>"
            ]
          },
          "metadata": {},
          "output_type": "display_data"
        }
      ],
      "source": [
        "# Start your code here\n",
        "x = sp.symbols('x')\n",
        "fx = 2**x\n",
        "gx = x**20\n",
        "\n",
        "p1 = sp.plot(fx, (x,0,100), line_color = 'r', show = False)\n",
        "p2 = sp.plot(gx, (x,0,100), line_color = 'b', show = False)\n",
        "p1.extend(p2)\n",
        "p1.show()"
      ]
    },
    {
      "cell_type": "markdown",
      "id": "65Bb88f_K6qA",
      "metadata": {
        "id": "65Bb88f_K6qA"
      },
      "source": [
        "#### 3b"
      ]
    },
    {
      "cell_type": "code",
      "execution_count": 20,
      "id": "4qXGDGyJK594",
      "metadata": {
        "id": "4qXGDGyJK594"
      },
      "outputs": [
        {
          "data": {
            "text/latex": [
              "$\\displaystyle \\infty$"
            ],
            "text/plain": [
              "oo"
            ]
          },
          "metadata": {},
          "output_type": "display_data"
        },
        {
          "name": "stdout",
          "output_type": "stream",
          "text": [
            "because fx has 2^x it grows exponentially faster than x^20 the limit of the function will approch inf\n",
            "So fx will eventually cross gx at x=\n",
            "[1.03657816406343, -0.967040343267014, 143.247278369982]\n",
            "The last one is the one we want: 143.247278369982\n",
            "[1.03657816406343, -0.967040343267014, 143.247278369982]\n",
            "The last one is the one we want: 143.247278369982\n"
          ]
        }
      ],
      "source": [
        "# Start your code here\n",
        "x1 = sp.symbols('x')\n",
        "fx = 2**x1\n",
        "gx = x1**20\n",
        "l = sp.limit(fx/gx, x, sp.oo)\n",
        "display(l)\n",
        "print(\"because fx has 2^x it grows exponentially faster than x^20 the limit of the function will approch inf\")\n",
        "print(\"So fx will eventually cross gx at x=\")\n",
        "sl = sp.solve(fx-gx,x)\n",
        "print([i.evalf() for i in sl])\n",
        "print(\"The last one is the one we want:\", sl[2].evalf())"
      ]
    },
    {
      "cell_type": "markdown",
      "id": "f0561a86",
      "metadata": {
        "id": "f0561a86"
      },
      "source": [
        "#### 3c"
      ]
    },
    {
      "cell_type": "code",
      "execution_count": 24,
      "id": "0889599a",
      "metadata": {
        "id": "0889599a"
      },
      "outputs": [
        {
          "data": {
            "image/png": "[encoded data removed]",
            "text/plain": [
              "<Figure size 640x480 with 1 Axes>"
            ]
          },
          "metadata": {},
          "output_type": "display_data"
        }
      ],
      "source": [
        "# Start your code here\n",
        "x = sp.symbols('x')\n",
        "fx = sp.ln(x)\n",
        "gx = x**(1/10)\n",
        "\n",
        "p1 = sp.plot(fx, (x, 0.01, 100), line_color = 'r', show = False)\n",
        "p2 = sp.plot(gx, (x, 0.01, 100), line_color = 'b', show = False)\n",
        "p1.extend(p2)\n",
        "p1.show()"
      ]
    },
    {
      "cell_type": "markdown",
      "id": "80JdZClaMGeQ",
      "metadata": {
        "id": "80JdZClaMGeQ"
      },
      "source": [
        "#### 3d"
      ]
    },
    {
      "cell_type": "code",
      "execution_count": null,
      "id": "311a556a",
      "metadata": {
        "id": "311a556a"
      },
      "outputs": [
        {
          "data": {
            "text/latex": [
              "$\\displaystyle 0$"
            ],
            "text/plain": [
              "0"
            ]
          },
          "metadata": {},
          "output_type": "display_data"
        },
        {
          "name": "stdout",
          "output_type": "stream",
          "text": [
            "because fx is a log it grows slower than x^(1/10) the limit of the function will approch 0\n",
            "So gx will eventually cross fx\n"
          ]
        }
      ],
      "source": [
        "x = sp.symbols('x')\n",
        "fx = sp.ln(x)\n",
        "gx = x**(1/10)\n",
        "\n",
        "# Calculate the limit of the ratio of the functions as x approaches infinity\n",
        "limit_ratio = sp.limit(fx / gx, x, sp.oo)\n",
        "display(limit_ratio)\n",
        "\n",
        "print(\"because fx is a log it grows slower than x^(1/10) the limit of the function will approch 0\")\n",
        "print(\"So gx will eventually cross fx\")"
      ]
    },
    {
      "cell_type": "markdown",
      "id": "z4nVblzKQU1q",
      "metadata": {
        "id": "z4nVblzKQU1q"
      },
      "source": [
        "#### 3e"
      ]
    },
    {
      "cell_type": "code",
      "execution_count": 23,
      "id": "54YElK12QVgq",
      "metadata": {
        "id": "54YElK12QVgq"
      },
      "outputs": [
        {
          "data": {
            "text/latex": [
              "$\\displaystyle 0$"
            ],
            "text/plain": [
              "0"
            ]
          },
          "metadata": {},
          "output_type": "display_data"
        },
        {
          "name": "stdout",
          "output_type": "stream",
          "text": [
            "Since the limit of (1/x^2) / (1/x) as x approaches infinity is 0, this confirms that 1/x^2 grows slower than 1/x.\n"
          ]
        }
      ],
      "source": [
        "# Start your code here\n",
        "x = sp.symbols('x')\n",
        "f_x = 1/x\n",
        "g_x = 1/x**2\n",
        "\n",
        "limit_ratio = sp.limit(g_x / f_x, x, sp.oo)\n",
        "display(limit_ratio)\n",
        "\n",
        "print(\"Since the limit of (1/x^2) / (1/x) as x approaches infinity is 0, this confirms that 1/x^2 grows slower than 1/x.\")"
      ]
    }
  ],
  "metadata": {
    "colab": {
      "provenance": []
    },
    "kernelspec": {
      "display_name": "base",
      "language": "python",
      "name": "python3"
    },
    "language_info": {
      "codemirror_mode": {
        "name": "ipython",
        "version": 3
      },
      "file_extension": ".py",
      "mimetype": "text/x-python",
      "name": "python",
      "nbconvert_exporter": "python",
      "pygments_lexer": "ipython3",
      "version": "3.12.4"
    }
  },
  "nbformat": 4,
  "nbformat_minor": 5
}
